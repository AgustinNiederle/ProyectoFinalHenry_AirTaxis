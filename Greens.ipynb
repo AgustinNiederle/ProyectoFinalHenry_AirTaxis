{
 "cells": [
  {
   "cell_type": "code",
   "execution_count": 2,
   "metadata": {},
   "outputs": [],
   "source": [
    "import pandas as pd\n",
    "import numpy as np"
   ]
  },
  {
   "cell_type": "code",
   "execution_count": 3,
   "metadata": {},
   "outputs": [],
   "source": [
    "import matplotlib.pyplot as plt\n",
    "import seaborn as sns"
   ]
  },
  {
   "cell_type": "code",
   "execution_count": 8,
   "metadata": {},
   "outputs": [],
   "source": [
    "datasetv1 = pd.read_parquet('./Archivos y links/Datasets extras/green_tripdata_2024-01.parquet')\n",
    "datasetv2 = pd.read_parquet('./Archivos y links/Datasets extras/green_tripdata_2024-02.parquet')\n",
    "datasetv3 = pd.read_parquet('./Archivos y links/Datasets extras/green_tripdata_2024-03.parquet')\n",
    "datasetv4 = pd.read_parquet('./Archivos y links/Datasets extras/green_tripdata_2024-04.parquet')\n",
    "datasetv5 = pd.read_parquet('./Archivos y links/Datasets extras/green_tripdata_2024-05.parquet')\n",
    "datasetv6 = pd.read_parquet('./Archivos y links/Datasets extras/green_tripdata_2024-06.parquet')"
   ]
  },
  {
   "cell_type": "code",
   "execution_count": 9,
   "metadata": {},
   "outputs": [],
   "source": [
    "# para ajustar la configuración para mostrar todas las columnas\n",
    "pd.set_option('display.max_columns', None)\n",
    "pd.set_option('display.max_rows', None)"
   ]
  },
  {
   "cell_type": "code",
   "execution_count": 11,
   "metadata": {},
   "outputs": [
    {
     "data": {
      "text/html": [
       "<div>\n",
       "<style scoped>\n",
       "    .dataframe tbody tr th:only-of-type {\n",
       "        vertical-align: middle;\n",
       "    }\n",
       "\n",
       "    .dataframe tbody tr th {\n",
       "        vertical-align: top;\n",
       "    }\n",
       "\n",
       "    .dataframe thead th {\n",
       "        text-align: right;\n",
       "    }\n",
       "</style>\n",
       "<table border=\"1\" class=\"dataframe\">\n",
       "  <thead>\n",
       "    <tr style=\"text-align: right;\">\n",
       "      <th></th>\n",
       "      <th>VendorID</th>\n",
       "      <th>lpep_pickup_datetime</th>\n",
       "      <th>lpep_dropoff_datetime</th>\n",
       "      <th>store_and_fwd_flag</th>\n",
       "      <th>RatecodeID</th>\n",
       "      <th>PULocationID</th>\n",
       "      <th>DOLocationID</th>\n",
       "      <th>passenger_count</th>\n",
       "      <th>trip_distance</th>\n",
       "      <th>fare_amount</th>\n",
       "      <th>extra</th>\n",
       "      <th>mta_tax</th>\n",
       "      <th>tip_amount</th>\n",
       "      <th>tolls_amount</th>\n",
       "      <th>ehail_fee</th>\n",
       "      <th>improvement_surcharge</th>\n",
       "      <th>total_amount</th>\n",
       "      <th>payment_type</th>\n",
       "      <th>trip_type</th>\n",
       "      <th>congestion_surcharge</th>\n",
       "    </tr>\n",
       "  </thead>\n",
       "  <tbody>\n",
       "    <tr>\n",
       "      <th>0</th>\n",
       "      <td>2</td>\n",
       "      <td>2024-01-01 00:46:55</td>\n",
       "      <td>2024-01-01 00:58:25</td>\n",
       "      <td>N</td>\n",
       "      <td>1.0</td>\n",
       "      <td>236</td>\n",
       "      <td>239</td>\n",
       "      <td>1.0</td>\n",
       "      <td>1.98</td>\n",
       "      <td>12.8</td>\n",
       "      <td>1.0</td>\n",
       "      <td>0.5</td>\n",
       "      <td>3.61</td>\n",
       "      <td>0.0</td>\n",
       "      <td>NaN</td>\n",
       "      <td>1.0</td>\n",
       "      <td>21.66</td>\n",
       "      <td>1.0</td>\n",
       "      <td>1.0</td>\n",
       "      <td>2.75</td>\n",
       "    </tr>\n",
       "    <tr>\n",
       "      <th>1</th>\n",
       "      <td>2</td>\n",
       "      <td>2024-01-01 00:31:42</td>\n",
       "      <td>2024-01-01 00:52:34</td>\n",
       "      <td>N</td>\n",
       "      <td>1.0</td>\n",
       "      <td>65</td>\n",
       "      <td>170</td>\n",
       "      <td>5.0</td>\n",
       "      <td>6.54</td>\n",
       "      <td>30.3</td>\n",
       "      <td>1.0</td>\n",
       "      <td>0.5</td>\n",
       "      <td>7.11</td>\n",
       "      <td>0.0</td>\n",
       "      <td>NaN</td>\n",
       "      <td>1.0</td>\n",
       "      <td>42.66</td>\n",
       "      <td>1.0</td>\n",
       "      <td>1.0</td>\n",
       "      <td>2.75</td>\n",
       "    </tr>\n",
       "  </tbody>\n",
       "</table>\n",
       "</div>"
      ],
      "text/plain": [
       "   VendorID lpep_pickup_datetime lpep_dropoff_datetime store_and_fwd_flag  \\\n",
       "0         2  2024-01-01 00:46:55   2024-01-01 00:58:25                  N   \n",
       "1         2  2024-01-01 00:31:42   2024-01-01 00:52:34                  N   \n",
       "\n",
       "   RatecodeID  PULocationID  DOLocationID  passenger_count  trip_distance  \\\n",
       "0         1.0           236           239              1.0           1.98   \n",
       "1         1.0            65           170              5.0           6.54   \n",
       "\n",
       "   fare_amount  extra  mta_tax  tip_amount  tolls_amount  ehail_fee  \\\n",
       "0         12.8    1.0      0.5        3.61           0.0        NaN   \n",
       "1         30.3    1.0      0.5        7.11           0.0        NaN   \n",
       "\n",
       "   improvement_surcharge  total_amount  payment_type  trip_type  \\\n",
       "0                    1.0         21.66           1.0        1.0   \n",
       "1                    1.0         42.66           1.0        1.0   \n",
       "\n",
       "   congestion_surcharge  \n",
       "0                  2.75  \n",
       "1                  2.75  "
      ]
     },
     "execution_count": 11,
     "metadata": {},
     "output_type": "execute_result"
    }
   ],
   "source": [
    "datasetv1.head(2)"
   ]
  },
  {
   "cell_type": "code",
   "execution_count": 20,
   "metadata": {},
   "outputs": [],
   "source": [
    "data=datasetv1.head(10)"
   ]
  },
  {
   "cell_type": "code",
   "execution_count": 21,
   "metadata": {},
   "outputs": [
    {
     "name": "stderr",
     "output_type": "stream",
     "text": [
      "C:\\Users\\Agustin\\AppData\\Local\\Temp\\ipykernel_13796\\3229420896.py:1: SettingWithCopyWarning: \n",
      "A value is trying to be set on a copy of a slice from a DataFrame.\n",
      "Try using .loc[row_indexer,col_indexer] = value instead\n",
      "\n",
      "See the caveats in the documentation: https://pandas.pydata.org/pandas-docs/stable/user_guide/indexing.html#returning-a-view-versus-a-copy\n",
      "  data['lpep_dropoff_datetime'] = pd.to_datetime(data['lpep_dropoff_datetime'], errors='coerce')\n",
      "C:\\Users\\Agustin\\AppData\\Local\\Temp\\ipykernel_13796\\3229420896.py:2: SettingWithCopyWarning: \n",
      "A value is trying to be set on a copy of a slice from a DataFrame.\n",
      "Try using .loc[row_indexer,col_indexer] = value instead\n",
      "\n",
      "See the caveats in the documentation: https://pandas.pydata.org/pandas-docs/stable/user_guide/indexing.html#returning-a-view-versus-a-copy\n",
      "  data['lpep_pickup_datetime'] = pd.to_datetime(data['lpep_pickup_datetime'], errors='coerce')\n"
     ]
    }
   ],
   "source": [
    "data['lpep_dropoff_datetime'] = pd.to_datetime(data['lpep_dropoff_datetime'], errors='coerce')\n",
    "data['lpep_pickup_datetime'] = pd.to_datetime(data['lpep_pickup_datetime'], errors='coerce')\n",
    "duracion = data['lpep_dropoff_datetime'] - data['lpep_pickup_datetime']\n",
    "duracion_hms = duracion.dt.components[['hours', 'minutes', 'seconds']]"
   ]
  },
  {
   "cell_type": "code",
   "execution_count": 22,
   "metadata": {},
   "outputs": [],
   "source": [
    "desde = data['PULocationID']\n",
    "hasta = data['PULocationID']\n",
    "N_pasajeros = data['passenger_count']\n",
    "distancia = data['trip_distance']\n",
    "ganancia_viaje = data['fare_amount']\t- data['mta_tax']\n",
    "#costo viaje = costo de combustble calculado segun distancia y modelodelauto"
   ]
  },
  {
   "cell_type": "code",
   "execution_count": 24,
   "metadata": {},
   "outputs": [
    {
     "name": "stdout",
     "output_type": "stream",
     "text": [
      "El viaje duró    hours  minutes  seconds\n",
      "0      0       11       30\n",
      "1      0       20       52\n",
      "2      0       19        2\n",
      "3      0       11       52\n",
      "4      0       10       59\n",
      "5      0       16       42\n",
      "6      0       16       13\n",
      "7      0       11       27\n",
      "8      0        1       16\n",
      "9      0       13       23\n",
      "Fue desde 0    236\n",
      "1     65\n",
      "2     74\n",
      "3     74\n",
      "4     74\n",
      "5     33\n",
      "6     74\n",
      "7    166\n",
      "8    226\n",
      "9      7\n",
      "Name: PULocationID, dtype: int32 hasta 0    236\n",
      "1     65\n",
      "2     74\n",
      "3     74\n",
      "4     74\n",
      "5     33\n",
      "6     74\n",
      "7    166\n",
      "8    226\n",
      "9      7\n",
      "Name: PULocationID, dtype: int32\n",
      "con 0    1.0\n",
      "1    5.0\n",
      "2    1.0\n",
      "3    1.0\n",
      "4    1.0\n",
      "5    1.0\n",
      "6    2.0\n",
      "7    2.0\n",
      "8    1.0\n",
      "9    1.0\n",
      "Name: passenger_count, dtype: float64 pasajeros.\n",
      "Se recorrieron 0    1.98\n",
      "1    6.54\n",
      "2    3.08\n",
      "3    2.40\n",
      "4    5.14\n",
      "5    2.00\n",
      "6    3.20\n",
      "7    2.01\n",
      "8    0.31\n",
      "9    2.32\n",
      "Name: trip_distance, dtype: float64 KM y el pago recibido, menos impuestos, fue de 0    12.3\n",
      "1    29.8\n",
      "2    19.3\n",
      "3    12.7\n",
      "4    22.1\n",
      "5    15.5\n",
      "6    16.9\n",
      "7    13.0\n",
      "8     3.2\n",
      "9    14.4\n",
      "dtype: float64\n"
     ]
    }
   ],
   "source": [
    "print(f\"El viaje duró {duracion_hms}\")\n",
    "print(f\"Fue desde {desde} hasta {hasta}\")\n",
    "print(f\"con {N_pasajeros} pasajeros.\")\n",
    "print(f\"Se recorrieron {distancia} KM y el pago recibido, menos impuestos, fue de {ganancia_viaje}\")"
   ]
  }
 ],
 "metadata": {
  "kernelspec": {
   "display_name": "Python 3",
   "language": "python",
   "name": "python3"
  },
  "language_info": {
   "codemirror_mode": {
    "name": "ipython",
    "version": 3
   },
   "file_extension": ".py",
   "mimetype": "text/x-python",
   "name": "python",
   "nbconvert_exporter": "python",
   "pygments_lexer": "ipython3",
   "version": "3.12.1"
  }
 },
 "nbformat": 4,
 "nbformat_minor": 2
}
